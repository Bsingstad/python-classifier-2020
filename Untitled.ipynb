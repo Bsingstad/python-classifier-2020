{
 "cells": [
  {
   "cell_type": "code",
   "execution_count": 1,
   "metadata": {},
   "outputs": [],
   "source": [
    "#!/usr/bin/env python\n",
    "import numpy as np\n",
    "import joblib\n",
    "from get_12ECG_features import get_12ECG_features\n",
    "\n"
   ]
  },
  {
   "cell_type": "code",
   "execution_count": 2,
   "metadata": {},
   "outputs": [],
   "source": [
    "def run_12ECG_classifier(data,header_data,classes,model):\n",
    "\n",
    "    num_classes = len(classes)\n",
    "    current_label = np.zeros(num_classes, dtype=int)\n",
    "    current_score = np.zeros(num_classes)\n",
    "\n",
    "    # Use your classifier here to obtain a label and score for each class. \n",
    "    features=np.asarray(get_12ECG_features(data,header_data))\n",
    "    feats_reshape = features.reshape(1,-1)\n",
    "    label = model.predict(feats_reshape)\n",
    "    score = model.predict_proba(feats_reshape)\n",
    "\n",
    "    current_label[label] = 1\n",
    "\n",
    "    for i in range(num_classes):\n",
    "        current_score[i] = np.array(score[0][i])\n",
    "\n",
    "    return current_label, current_score"
   ]
  },
  {
   "cell_type": "code",
   "execution_count": 3,
   "metadata": {},
   "outputs": [],
   "source": [
    "def load_12ECG_model():\n",
    "    # load the model from disk \n",
    "    filename='finalized_model.sav'\n",
    "    loaded_model = joblib.load(filename)\n",
    "\n",
    "    return loaded_model\n"
   ]
  },
  {
   "cell_type": "code",
   "execution_count": 5,
   "metadata": {},
   "outputs": [],
   "source": [
    "model = load_12ECG_model"
   ]
  },
  {
   "cell_type": "code",
   "execution_count": 6,
   "metadata": {},
   "outputs": [
    {
     "data": {
      "text/plain": [
       "<function __main__.load_12ECG_model()>"
      ]
     },
     "execution_count": 6,
     "metadata": {},
     "output_type": "execute_result"
    }
   ],
   "source": [
    "model"
   ]
  },
  {
   "cell_type": "code",
   "execution_count": 12,
   "metadata": {},
   "outputs": [
    {
     "ename": "NameError",
     "evalue": "name 'x' is not defined",
     "output_type": "error",
     "traceback": [
      "\u001b[1;31m---------------------------------------------------------------------------\u001b[0m",
      "\u001b[1;31mNameError\u001b[0m                                 Traceback (most recent call last)",
      "\u001b[1;32m<ipython-input-12-07eb6aa93d62>\u001b[0m in \u001b[0;36m<module>\u001b[1;34m\u001b[0m\n\u001b[1;32m----> 1\u001b[1;33m \u001b[0mrun_12ECG_classifier\u001b[0m\u001b[1;33m(\u001b[0m\u001b[1;34m\"C:/Users/Bjorn-JosteinSingsta/Desktop/PhysioNetChallenge2020_Training_CPSC.tar/PhysioNetChallenge2020_Training_CPSC/Training_WFDB/A0001.mat\"\u001b[0m\u001b[1;33m,\u001b[0m\u001b[1;34m\"C:/Users/Bjorn-JosteinSingsta/Desktop/PhysioNetChallenge2020_Training_CPSC.tar/PhysioNetChallenge2020_Training_CPSC/Training_WFDB/A0001.hea\"\u001b[0m\u001b[1;33m,\u001b[0m\u001b[0mx\u001b[0m\u001b[1;33m,\u001b[0m\u001b[0mmodel\u001b[0m\u001b[1;33m)\u001b[0m\u001b[1;33m\u001b[0m\u001b[1;33m\u001b[0m\u001b[0m\n\u001b[0m",
      "\u001b[1;31mNameError\u001b[0m: name 'x' is not defined"
     ]
    }
   ],
   "source": [
    "run_12ECG_classifier(\"C:/Users/Bjorn-JosteinSingsta/Desktop/PhysioNetChallenge2020_Training_CPSC.tar/PhysioNetChallenge2020_Training_CPSC/Training_WFDB/A0001.mat\",\"C:/Users/Bjorn-JosteinSingsta/Desktop/PhysioNetChallenge2020_Training_CPSC.tar/PhysioNetChallenge2020_Training_CPSC/Training_WFDB/A0001.hea\",x,model)"
   ]
  },
  {
   "cell_type": "code",
   "execution_count": null,
   "metadata": {},
   "outputs": [],
   "source": []
  }
 ],
 "metadata": {
  "hide_input": false,
  "kernelspec": {
   "display_name": "Python 3",
   "language": "python",
   "name": "python3"
  },
  "language_info": {
   "codemirror_mode": {
    "name": "ipython",
    "version": 3
   },
   "file_extension": ".py",
   "mimetype": "text/x-python",
   "name": "python",
   "nbconvert_exporter": "python",
   "pygments_lexer": "ipython3",
   "version": "3.7.1"
  },
  "toc": {
   "base_numbering": 1,
   "nav_menu": {},
   "number_sections": true,
   "sideBar": true,
   "skip_h1_title": false,
   "title_cell": "Table of Contents",
   "title_sidebar": "Contents",
   "toc_cell": false,
   "toc_position": {},
   "toc_section_display": true,
   "toc_window_display": false
  }
 },
 "nbformat": 4,
 "nbformat_minor": 2
}
